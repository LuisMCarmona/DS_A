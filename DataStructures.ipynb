{
 "cells": [
  {
   "cell_type": "markdown",
   "metadata": {},
   "source": [
    "#  Queues"
   ]
  },
  {
   "cell_type": "markdown",
   "metadata": {},
   "source": [
    "Queues are linear data structures that follows the principle FIFO (First-In First-Out), that means that the first item inserted is the first to be removed. The 2 primarys operations you can do are;\n",
    "\n",
    "1. Enqueue: Add a new element to the end of the queue\n",
    "2. Dequeue: Remove the element on the front of the queue.\n",
    "\n",
    "The primary example of queue is people waiting in the cashier. People are served in the same order they came into the line.  It follows the FIFO principle;\n",
    "\n",
    "\n",
    "#### Implementation:\n"
   ]
  },
  {
   "cell_type": "code",
   "execution_count": 1,
   "metadata": {},
   "outputs": [],
   "source": [
    "class Node:\n",
    "    def __init__(self,data):\n",
    "        self.data = data # Data stored in the node\n",
    "        self.next = None  # Pointer to the next node\n",
    "\n",
    "class Queue:\n",
    "    def __init__(self):\n",
    "        self.head = None  # Front of the queue\n",
    "        self.tail = None  # End of the queue"
   ]
  },
  {
   "cell_type": "markdown",
   "metadata": {},
   "source": [
    "We set self.head and self.tail as None to indicate that the queue is initially empty. As elements are added to the queue, these attributes will be updated to keep track of the front (self.head) and end (self.tail) of the queue. Similarly, self.next is set to None when creating a new node, as there is no next element yet for that node. It is through these attribute updates that we maintain the structure and order of the queue.\n",
    "\n",
    "\n",
    "###### Let's implement now the processes of Enqueue, Dequeue and Show:\n"
   ]
  },
  {
   "cell_type": "code",
   "execution_count": 2,
   "metadata": {},
   "outputs": [
    {
     "name": "stdout",
     "output_type": "stream",
     "text": [
      "6\n",
      "7\n",
      "None\n"
     ]
    }
   ],
   "source": [
    "class Queue:\n",
    "    def __init__(self):\n",
    "        self.head = None  # Front of the queue\n",
    "        self.tail = None  # End of the queue\n",
    "\n",
    "    def Enqueue(self, data):\n",
    "        new_node = Node(data)  # Create a new node with the data\n",
    "        if self.head is None:\n",
    "            self.head = new_node  # Set both head and tail to the new node\n",
    "            self.tail = new_node\n",
    "        else:\n",
    "            self.tail.next = new_node  \n",
    "            self.tail = new_node  \n",
    "\n",
    "    def Dequeue(self):\n",
    "        if self.head is not None:\n",
    "            current_node = self.head  # Store the current head node\n",
    "            self.head = current_node.next  # Update the head\n",
    "            current_node.next = None \n",
    "            if self.head is None: \n",
    "                self.tail = None \n",
    "\n",
    "    def Show(self):\n",
    "        current_node = self.head  # Start at the head\n",
    "        while current_node is not None:\n",
    "            print(current_node.data)  # Print the data of the current node\n",
    "            current_node = current_node.next  # Move to the next node\n",
    "\n",
    "\n",
    "queue = Queue()\n",
    "queue.Enqueue(5)\n",
    "queue.Enqueue(6)\n",
    "queue.Enqueue(7)\n",
    "queue.Dequeue()\n",
    "\n",
    "print(queue.Show())"
   ]
  },
  {
   "cell_type": "markdown",
   "metadata": {},
   "source": [
    "# Trees"
   ]
  },
  {
   "cell_type": "markdown",
   "metadata": {},
   "source": [
    "Trees are node-based structures, each node can have links to more than one node. The top node is the root. Nodes have parent-child relationships, allowing efficient operations. Trees represent hierarchies like file systems and charts. Nodes store data and reference child nodes for traversal. Trees are essential for organizing hierarchical relationships. One example of a Tree is the game of chess, where you can have all the possible moves of your rival.\n",
    "\n",
    "Let's study the implementation of binary trees and then some search algorithms for them."
   ]
  },
  {
   "cell_type": "markdown",
   "metadata": {},
   "source": [
    "![alternatvie text](https://static.javatpoint.com/ds/images/binary-tree.png)"
   ]
  },
  {
   "cell_type": "code",
   "execution_count": 3,
   "metadata": {},
   "outputs": [],
   "source": [
    "class TreeNode:\n",
    "    def __init__(self, data, left = None, right = None):\n",
    "        self.data = data\n",
    "        self.left = left\n",
    "        self.right = right\n",
    "\n",
    "# Lets implement the Binary Tree above\n",
    "node5 = TreeNode(5)\n",
    "node6 = TreeNode(6)\n",
    "\n",
    "node2 = TreeNode(2,node5,node6)\n",
    "node3 = TreeNode(3)\n",
    "\n",
    "root = TreeNode(1,node2,node3)"
   ]
  },
  {
   "cell_type": "markdown",
   "metadata": {},
   "source": [
    "# Graphs"
   ]
  },
  {
   "cell_type": "markdown",
   "metadata": {},
   "source": [
    "Graphs are data structures that consist of nodes and connections between them. A graph can have nodes that are connected to multiple other nodes, creating a network like structure. Graphs are used to model and represent various real-world scenarios, such as social networks, transportation systems, computer networks, and more. They provide a powerful way to analyze relationships and connectivity between entities. Trees are types of Graphs. We will see some classifications of graphs during this part.\n",
    "\n",
    "Let's study the implementation of graphs and weighed graphs, and then some search algorithms for them."
   ]
  },
  {
   "cell_type": "code",
   "execution_count": 4,
   "metadata": {},
   "outputs": [],
   "source": [
    "class Graph:\n",
    "    def __init__(self):\n",
    "        self.vertices = {}\n",
    "    def add_vertex(self,vertex):\n",
    "        self.vertices[vertex] = []\n",
    "    def add_edge(self, source, target):\n",
    "        self.vertices[source].append(target)\n",
    "\n",
    "class WeightedGraph: # A weighted graph assigns values to edges, indicating their significance or cost.\n",
    "    def __init__(self):\n",
    "        self.vertices = {}\n",
    "    def add_vertex(self, vertex):\n",
    "        self.vertices[vertex] = []\n",
    "    def add_edge(self, source, target, weight):\n",
    "        self.vertices[source].append([target, weight])"
   ]
  },
  {
   "cell_type": "markdown",
   "metadata": {},
   "source": [
    "Differences between Graphs and Trees\n",
    "\n",
    "- Trees cannot have cycles, Graphs can\n",
    "- In a Tree all nodes must be connected, in a Graph there can be unconnected nodes."
   ]
  }
 ],
 "metadata": {
  "kernelspec": {
   "display_name": "Python 3",
   "language": "python",
   "name": "python3"
  },
  "language_info": {
   "codemirror_mode": {
    "name": "ipython",
    "version": 3
   },
   "file_extension": ".py",
   "mimetype": "text/x-python",
   "name": "python",
   "nbconvert_exporter": "python",
   "pygments_lexer": "ipython3",
   "version": "3.8.5"
  }
 },
 "nbformat": 4,
 "nbformat_minor": 4
}
